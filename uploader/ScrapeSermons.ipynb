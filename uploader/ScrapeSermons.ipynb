{
 "cells": [
  {
   "cell_type": "code",
   "execution_count": null,
   "metadata": {},
   "outputs": [],
   "source": [
    "# !pip install requests_cache\n",
    "import requests\n",
    "import bs4\n",
    "import contextlib\n",
    "import requests_cache\n",
    "import re\n",
    "import csv\n",
    "import sys\n",
    "requests_cache.install_cache('/tmp/cache')"
   ]
  },
  {
   "cell_type": "code",
   "execution_count": 2,
   "metadata": {},
   "outputs": [],
   "source": [
    "# General helpers\n",
    "def load_url(url):\n",
    "    with contextlib.closing(requests.get(url)) as r:\n",
    "        if r.status_code != 200:\n",
    "            raise ValueError('Bad response {}'.format(r))\n",
    "        return bs4.BeautifulSoup(r.content, 'html.parser')\n",
    "def select_only_one(soup, selector):\n",
    "    matches = soup.select(selector)\n",
    "    if len(matches) != 1:\n",
    "        raise ValueError('Unexpected ambiguous contents for selector \"{}\"'.format(selector))\n",
    "    return matches[0]"
   ]
  },
  {
   "cell_type": "code",
   "execution_count": 46,
   "metadata": {},
   "outputs": [],
   "source": [
    "# Parse titles\n",
    "with open('data/bible_books.txt') as f:\n",
    "    bible_books = list(line.rstrip('\\n') for line in f)\n",
    "bible_books += ['1 Cor', 'Psalm', 'Proverb']\n",
    "def correct_spelling(s):\n",
    "    return s.replace('Eccelsiastes', 'Ecclesiastes')\n",
    "PASSAGE = re.compile(r'({}) (\\d+)([.:]\\d+)?(-(\\d+)([.:]\\d+)?)?'.format('|'.join(bible_books)), re.I)\n",
    "def get_name_and_passage(title):\n",
    "    title = correct_spelling(title)\n",
    "    match = list(PASSAGE.finditer(title))\n",
    "    if match:\n",
    "        return title[:match[-1].start()].rstrip(': (–-'), match[-1].group(0).title()\n",
    "    return title, ''"
   ]
  },
  {
   "cell_type": "code",
   "execution_count": 6,
   "metadata": {},
   "outputs": [],
   "source": [
    "ARCHIVE_PAGE = 'https://www.stnickschurch.org.uk/sermon-archive/page/{}'\n",
    "ARCHIVE_PAGES = [ARCHIVE_PAGE.format(n) for n in range(1, 22)]\n",
    "TITLES = [a.contents[0].strip()\n",
    "          for page in ARCHIVE_PAGES\n",
    "          for a in load_url(page).select('.resurrect-entry-content .resurrect-sermon-short h1 > a')]\n",
    "LINKS = [a.attrs['href']\n",
    "         for page in ARCHIVE_PAGES\n",
    "         for a in load_url(page).select('.resurrect-entry-content .resurrect-sermon-short h1 > a')]"
   ]
  },
  {
   "cell_type": "code",
   "execution_count": null,
   "metadata": {},
   "outputs": [],
   "source": [
    "print('\\n'.join(sorted(['{:<50}  {}'.format(*get_name_and_passage(title)) for title in TITLES])))"
   ]
  },
  {
   "cell_type": "code",
   "execution_count": 47,
   "metadata": {},
   "outputs": [],
   "source": [
    "def get_sermon(url):\n",
    "    soup = load_url(url)\n",
    "    try:\n",
    "        root = select_only_one(soup, '.resurrect-sermon-full')\n",
    "        d = {}\n",
    "        d['title'], d['passage'] = get_name_and_passage(\n",
    "            select_only_one(root, '.resurrect-main-title').contents[0].strip())\n",
    "        d['date'] = select_only_one(root, 'time').contents[0]\n",
    "        d['speaker'] = select_only_one(root, '.resurrect-sermon-speaker > a').contents[0]\n",
    "        d['audio'] = select_only_one(soup, '#resurrect-sermon-full-audio-download-button > a').attrs['href']\n",
    "        footers = root.select('.resurrect-entry-footer-terms > .resurrect-content-icon')\n",
    "        for footer in footers:\n",
    "            if 'Series: ' in footer.contents:\n",
    "                d['series'] = select_only_one(footer, 'a').contents[0]\n",
    "            elif 'Tagged with ' in footer.contents:\n",
    "                tag = select_only_one(footer, 'a').contents[0]\n",
    "                if 'time' in d:\n",
    "                    raise ValueError('Multiple \"Tagged with\" in footers: {}'.format(footers))\n",
    "                d['time'] = {'Sunday': '11:00',\n",
    "                             'Midweek': '13:00',\n",
    "                             'Summer Small Groups': '19:00',\n",
    "                             'Small Groups': '19:00',\n",
    "                             'Guest Event': '19:00',\n",
    "                             'Events': '19:00',\n",
    "                             'Weekend Away': '',\n",
    "                             'Weekends Away': '',\n",
    "                             'Christmas 2016': '11:00'}[tag]\n",
    "        if 'time' not in d:\n",
    "            sys.stderr.write('\\rWARNING! Time tag not found for {}\\n'.format(url))\n",
    "    except Exception:\n",
    "        raise ValueError('Failed to parse: {}'.format(url))\n",
    "    return d"
   ]
  },
  {
   "cell_type": "code",
   "execution_count": 48,
   "metadata": {},
   "outputs": [
    {
     "name": "stderr",
     "output_type": "stream",
     "text": [
      "WARNING! Time tag not found for https://www.stnickschurch.org.uk/sermons/science-disprove-god/\n",
      "WARNING! Time tag not found for https://www.stnickschurch.org.uk/sermons/investigating-evidence-jesus-2-luke-21-25-38/\n",
      "WARNING! Time tag not found for https://www.stnickschurch.org.uk/sermons/8-colossians-3-18-4-18/\n",
      "WARNING! Time tag not found for https://www.stnickschurch.org.uk/sermons/7-colossians-3-9-17-interview/\n",
      "WARNING! Time tag not found for https://www.stnickschurch.org.uk/sermons/4-colossians-26-15/\n",
      "WARNING! Time tag not found for https://www.stnickschurch.org.uk/sermons/3-colossians-1-24-2-5/\n",
      "WARNING! Time tag not found for https://www.stnickschurch.org.uk/sermons/summer-psalms-1-psalm-1/\n",
      "WARNING! Time tag not found for https://www.stnickschurch.org.uk/sermons/gods-grand-design-2-haggai-21-9/\n",
      "Sermon 205/205"
     ]
    }
   ],
   "source": [
    "EXCLUDED = {'https://www.stnickschurch.org.uk/sermons/heaven-not-get-2-luke-12-21-34/',\n",
    "            'https://www.stnickschurch.org.uk/sermons/king-serves-6-mark-8-11-30/',\n",
    "            'https://www.stnickschurch.org.uk/sermons/king-serves-5-mark-7-24-8-10/'}\n",
    "with open('sermons.auto.tsv', 'w') as f:\n",
    "    writer = csv.DictWriter(f, ['date', 'time', 'passage', 'series', 'title', 'speaker', 'audio'],\n",
    "                            delimiter='\\t')\n",
    "    writer.writeheader()\n",
    "    for n, url in enumerate(LINKS):\n",
    "        if url not in EXCLUDED:\n",
    "            sys.stderr.write('\\rSermon {}/{}'.format(n+1, len(LINKS)))\n",
    "            writer.writerow(get_sermon(url))"
   ]
  },
  {
   "cell_type": "code",
   "execution_count": null,
   "metadata": {},
   "outputs": [],
   "source": []
  }
 ],
 "metadata": {
  "kernelspec": {
   "display_name": "Python 3",
   "language": "python",
   "name": "python3"
  },
  "language_info": {
   "codemirror_mode": {
    "name": "ipython",
    "version": 3
   },
   "file_extension": ".py",
   "mimetype": "text/x-python",
   "name": "python",
   "nbconvert_exporter": "python",
   "pygments_lexer": "ipython3",
   "version": "3.6.6"
  }
 },
 "nbformat": 4,
 "nbformat_minor": 2
}
